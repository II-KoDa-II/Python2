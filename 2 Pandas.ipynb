{
 "cells": [
  {
   "cell_type": "markdown",
   "metadata": {
    "id": "1Qw6Q1Xeanf4"
   },
   "source": [
    "В этом задании предлагается провести небольшой анализ данных датасета [studens](https://archive.ics.uci.edu/ml/datasets/Student+Performance#), в котором содержатся данные об успеваемости учеников старших классов. Берем датасет `student-mat.csv`, который про математиков.\n",
    "Описание полей вы можете найти на [сайте](https://archive.ics.uci.edu/ml/datasets/Student+Performance#)"
   ]
  },
  {
   "cell_type": "code",
   "execution_count": 1317,
   "metadata": {
    "collapsed": true,
    "id": "G7YKH60-anf5"
   },
   "outputs": [],
   "source": [
    "import pandas as pd\n",
    "import matplotlib.pyplot as plt\n",
    "import numpy as np\n",
    "%matplotlib inline"
   ]
  },
  {
   "cell_type": "markdown",
   "metadata": {
    "id": "hmbVWVw-anf5"
   },
   "source": [
    "### Задание 1 ★☆☆\n",
    "Считайте файл в переменную `data` определите размер таблицы."
   ]
  },
  {
   "cell_type": "code",
   "execution_count": 1318,
   "metadata": {
    "collapsed": true,
    "id": "mblJUSDHanf6"
   },
   "outputs": [],
   "source": [
    "data = pd.read_csv('student-mat.csv', sep=';')"
   ]
  },
  {
   "cell_type": "code",
   "execution_count": 1319,
   "metadata": {
    "collapsed": true,
    "id": "Z3CWl2AUanf6"
   },
   "outputs": [],
   "source": [
    "# размер это tuple (количество строк, количество столбцов)\n",
    "shape = data.shape"
   ]
  },
  {
   "cell_type": "markdown",
   "metadata": {
    "id": "lyE6F6Hsanf6"
   },
   "source": [
    "Значение для формы"
   ]
  },
  {
   "cell_type": "code",
   "execution_count": 1320,
   "metadata": {
    "id": "78Q4K7mPanf6"
   },
   "outputs": [
    {
     "name": "stdout",
     "output_type": "stream",
     "text": [
      "395 33\n"
     ]
    }
   ],
   "source": [
    "print(' '.join(map(str, shape)))"
   ]
  },
  {
   "cell_type": "markdown",
   "metadata": {
    "id": "6bG7j5DFanf7"
   },
   "source": [
    "Посмотрите первые пять строк"
   ]
  },
  {
   "cell_type": "code",
   "execution_count": 1321,
   "metadata": {
    "id": "4489AacBanf7"
   },
   "outputs": [
    {
     "name": "stdout",
     "output_type": "stream",
     "text": [
      "  school sex  age address famsize Pstatus  Medu  Fedu     Mjob      Fjob  ...  \\\n",
      "0     GP   F   18       U     GT3       A     4     4  at_home   teacher  ...   \n",
      "1     GP   F   17       U     GT3       T     1     1  at_home     other  ...   \n",
      "2     GP   F   15       U     LE3       T     1     1  at_home     other  ...   \n",
      "3     GP   F   15       U     GT3       T     4     2   health  services  ...   \n",
      "4     GP   F   16       U     GT3       T     3     3    other     other  ...   \n",
      "\n",
      "  famrel freetime  goout  Dalc  Walc health absences  G1  G2  G3  \n",
      "0      4        3      4     1     1      3        6   5   6   6  \n",
      "1      5        3      3     1     1      3        4   5   5   6  \n",
      "2      4        3      2     2     3      3       10   7   8  10  \n",
      "3      3        2      2     1     1      5        2  15  14  15  \n",
      "4      4        3      2     1     2      5        4   6  10  10  \n",
      "\n",
      "[5 rows x 33 columns]\n"
     ]
    }
   ],
   "source": [
    "print(data.head())"
   ]
  },
  {
   "cell_type": "markdown",
   "metadata": {
    "id": "CmMWi-kUanf7"
   },
   "source": [
    "Выведите список названий столбцов"
   ]
  },
  {
   "cell_type": "code",
   "execution_count": 1322,
   "metadata": {
    "id": "XnlAW9kpanf8"
   },
   "outputs": [
    {
     "name": "stdout",
     "output_type": "stream",
     "text": [
      "['school', 'sex', 'age', 'address', 'famsize', 'Pstatus', 'Medu', 'Fedu', 'Mjob', 'Fjob', 'reason', 'guardian', 'traveltime', 'studytime', 'failures', 'schoolsup', 'famsup', 'paid', 'activities', 'nursery', 'higher', 'internet', 'romantic', 'famrel', 'freetime', 'goout', 'Dalc', 'Walc', 'health', 'absences', 'G1', 'G2', 'G3']\n"
     ]
    }
   ],
   "source": [
    "print(data.columns.tolist())"
   ]
  },
  {
   "cell_type": "markdown",
   "metadata": {
    "collapsed": true,
    "id": "QfkWJXJmanf8"
   },
   "source": [
    "### Задание 2 ★☆☆\n",
    "Определите количество студентов, у которых оценка G1 выше среднего."
   ]
  },
  {
   "cell_type": "code",
   "execution_count": 1323,
   "metadata": {
    "collapsed": true,
    "id": "Cand7AFEanf8"
   },
   "outputs": [],
   "source": [
    "mean_g1 = data['G1'].mean()\n",
    "more_than_mean = len(data[data['G1'] > mean_g1])"
   ]
  },
  {
   "cell_type": "markdown",
   "metadata": {
    "id": "BKSF41T0anf8"
   },
   "source": [
    "Ответ:"
   ]
  },
  {
   "cell_type": "code",
   "execution_count": 1324,
   "metadata": {
    "id": "A3wFewiBanf8"
   },
   "outputs": [
    {
     "name": "stdout",
     "output_type": "stream",
     "text": [
      "202\n"
     ]
    }
   ],
   "source": [
    "print(more_than_mean)"
   ]
  },
  {
   "cell_type": "markdown",
   "metadata": {
    "id": "O3IRT8FEanf8"
   },
   "source": [
    "### Задание 3 ★☆☆\n",
    "Определите значение для поля `absences` после сортировки по убыванию по полю `G3`, которое находится на 100 позиции после сортировки (отсчет с 0)."
   ]
  },
  {
   "cell_type": "code",
   "execution_count": 1325,
   "metadata": {
    "collapsed": true,
    "id": "sHsjVlX9anf8"
   },
   "outputs": [],
   "source": [
    "sorted_data = data.sort_values('G3', ascending=False)\n",
    "absences_at_100 = sorted_data.iloc[99]['absences']"
   ]
  },
  {
   "cell_type": "markdown",
   "metadata": {
    "id": "ewWI6Sxuanf8"
   },
   "source": [
    "Ответ:"
   ]
  },
  {
   "cell_type": "code",
   "execution_count": 1326,
   "metadata": {
    "id": "_qoWXMlNanf8"
   },
   "outputs": [
    {
     "name": "stdout",
     "output_type": "stream",
     "text": [
      "6\n"
     ]
    }
   ],
   "source": [
    "print(absences_at_100)"
   ]
  },
  {
   "cell_type": "markdown",
   "metadata": {
    "id": "yFCvXaaEanf8"
   },
   "source": [
    "### Задание 4 ★☆☆\n",
    "Определите долю студентов женского и мужского пола."
   ]
  },
  {
   "cell_type": "code",
   "execution_count": 1327,
   "metadata": {
    "collapsed": true,
    "id": "8ZxEYgyranf9"
   },
   "outputs": [],
   "source": [
    "# получите объект pandas series, индексы которого: F и M\n",
    "serires_object = data['sex'].value_counts(normalize=True)"
   ]
  },
  {
   "cell_type": "markdown",
   "metadata": {
    "id": "sFKQXEM8anf9"
   },
   "source": [
    "Ответ:"
   ]
  },
  {
   "cell_type": "code",
   "execution_count": 1328,
   "metadata": {
    "id": "tk43QP3Kanf9"
   },
   "outputs": [
    {
     "name": "stdout",
     "output_type": "stream",
     "text": [
      "0.473 0.527\n"
     ]
    }
   ],
   "source": [
    "print(\"{:.3f} {:.3f}\".format(serires_object['M'], serires_object['F']))"
   ]
  },
  {
   "cell_type": "markdown",
   "metadata": {
    "id": "vxF9eFMoanf9"
   },
   "source": [
    "### Задание 5 ★★☆\n",
    "Определите общее количество пропущенных значений в таблице."
   ]
  },
  {
   "cell_type": "code",
   "execution_count": 1329,
   "metadata": {
    "collapsed": true,
    "id": "skKQjKi_anf9"
   },
   "outputs": [],
   "source": [
    "null_count = data.isnull().sum().sum()"
   ]
  },
  {
   "cell_type": "markdown",
   "metadata": {
    "id": "wnSOErC_anf9"
   },
   "source": [
    "Ответ:"
   ]
  },
  {
   "cell_type": "code",
   "execution_count": 1330,
   "metadata": {
    "id": "zHVqz_4ganf9"
   },
   "outputs": [
    {
     "name": "stdout",
     "output_type": "stream",
     "text": [
      "0\n"
     ]
    }
   ],
   "source": [
    "print(null_count)"
   ]
  },
  {
   "cell_type": "markdown",
   "metadata": {
    "id": "f0LH6D_0anf9"
   },
   "source": [
    "### Задание 6 ★★☆\n",
    "Определите уникальные значения 'Mjob', отсортируйте их по алфавиту, сопоставьте каждому значению его позицию в отсорированном списке и замените значения в таблице на его позицию. Например, если вы получили список уникальных значений ['a', 'c', 'f'], то вместо 'a' везде нужно поставить 0, вместо 'c' везде нужно поставить 1, а вместо 'f' -\n",
    "2."
   ]
  },
  {
   "cell_type": "code",
   "execution_count": 1331,
   "metadata": {
    "collapsed": true,
    "id": "20fIoUd0anf9"
   },
   "outputs": [],
   "source": [
    "unique_mjobs = sorted(data['Mjob'].unique())\n",
    "mjob_to_index = {job: idx for idx, job in enumerate(unique_mjobs)}\n",
    "data['Mjob'] = data['Mjob'].map(mjob_to_index)\n"
   ]
  },
  {
   "cell_type": "markdown",
   "metadata": {
    "id": "7Pk0YVAUanf9"
   },
   "source": [
    "Ответ:"
   ]
  },
  {
   "cell_type": "code",
   "execution_count": 1332,
   "metadata": {
    "id": "_IMaz9xcanf9"
   },
   "outputs": [
    {
     "name": "stdout",
     "output_type": "stream",
     "text": [
      "2\n"
     ]
    }
   ],
   "source": [
    "print(data['Mjob'].value_counts().idxmax())"
   ]
  },
  {
   "cell_type": "markdown",
   "metadata": {
    "id": "kFBeHvgeanf9"
   },
   "source": [
    "## Задание 7 ★★☆\n",
    "Сгруппируйте данные по полю 'sex' и определите среднее значение, медиану и максимальное значение оценок 'G3'.\n",
    "Подсказка: agg"
   ]
  },
  {
   "cell_type": "code",
   "execution_count": 1333,
   "metadata": {
    "collapsed": true,
    "id": "I0qtCvUwanf9"
   },
   "outputs": [],
   "source": [
    "# получите data frame с соответсвующими стрками (по полю sex) и столбцами (среднее, медиана и максимум)\n",
    "df_grouped = data.groupby('sex')['G3'].agg(['mean', 'median', 'max'])"
   ]
  },
  {
   "cell_type": "markdown",
   "metadata": {
    "id": "uxHGJP3janf-"
   },
   "source": [
    "Ответ:"
   ]
  },
  {
   "cell_type": "code",
   "execution_count": 1334,
   "metadata": {
    "id": "vXG8zfMganf-"
   },
   "outputs": [
    {
     "name": "stdout",
     "output_type": "stream",
     "text": [
      "80.881\n"
     ]
    }
   ],
   "source": [
    "print(\"{:.3f}\".format(df_grouped.sum().sum()))"
   ]
  },
  {
   "cell_type": "markdown",
   "metadata": {
    "id": "hD5tsneDanf-"
   },
   "source": [
    "## Задание 8 ★★☆\n",
    "Определите среднее количество пропусков занятий ('absences') среди студентов, каждая оценка которых ('G1', 'G2', 'G3') выше медианы."
   ]
  },
  {
   "cell_type": "code",
   "execution_count": 1335,
   "metadata": {
    "collapsed": true,
    "id": "6VeAa5qWanf-"
   },
   "outputs": [],
   "source": [
    "median_g1 = data['G1'].median()\n",
    "median_g2 = data['G2'].median()\n",
    "median_g3 = data['G3'].median()\n",
    "\n",
    "high_level = data[\n",
    "    (data['G1'] > median_g1) &\n",
    "    (data['G2'] > median_g2) &\n",
    "    (data['G3'] > median_g3)]\n",
    "\n",
    "mean_score_high_level = high_level['absences'].mean()"
   ]
  },
  {
   "cell_type": "markdown",
   "metadata": {
    "id": "T1M7PiWJanf-"
   },
   "source": [
    "Ответ:"
   ]
  },
  {
   "cell_type": "code",
   "execution_count": 1336,
   "metadata": {
    "id": "vZKOwGi9anf-"
   },
   "outputs": [
    {
     "name": "stdout",
     "output_type": "stream",
     "text": [
      "4.4926\n"
     ]
    }
   ],
   "source": [
    "print(\"{:.4f}\".format(mean_score_high_level))"
   ]
  },
  {
   "cell_type": "markdown",
   "metadata": {
    "id": "NS_AeQ9Dh-rk"
   },
   "source": [
    "## Задание 9 ★★☆ Визуализация в pandas"
   ]
  },
  {
   "cell_type": "markdown",
   "metadata": {
    "id": "hcPZ90wRh-rm"
   },
   "source": [
    "Постройти распределение оценок 'G1'(гистограмму). Используйте методы для data frame и series."
   ]
  },
  {
   "cell_type": "code",
   "execution_count": 1337,
   "metadata": {
    "id": "HYnLzBIuh-rn"
   },
   "outputs": [
    {
     "data": {
      "image/png": "[encoded data removed]",
      "text/plain": [
       "<Figure size 640x480 with 1 Axes>"
      ]
     },
     "metadata": {},
     "output_type": "display_data"
    }
   ],
   "source": [
    "data['G1'].plot(title ='Распределение оценок G1',\n",
    "                kind ='hist',\n",
    "                bins = 17,\n",
    "                edgecolor = 'black',\n",
    "                xlabel ='Оценка',\n",
    "                ylabel ='Количество студентов')\n",
    "plt.xticks(np.arange(0, 21, 1))\n",
    "plt.show()"
   ]
  },
  {
   "cell_type": "markdown",
   "metadata": {
    "id": "Rxl27WVjh-ro"
   },
   "source": [
    "Постройте scatter plot по признакам 'G3'и 'absences'"
   ]
  },
  {
   "cell_type": "code",
   "execution_count": 1338,
   "metadata": {
    "id": "8vWTZBs4h-ro"
   },
   "outputs": [
    {
     "data": {
      "image/png": "[encoded data removed]",
      "text/plain": [
       "<Figure size 640x480 with 1 Axes>"
      ]
     },
     "metadata": {},
     "output_type": "display_data"
    }
   ],
   "source": [
    "data.plot(title ='Зависимость оценки G3 от пропусков',\n",
    "          kind ='scatter',\n",
    "          x ='G3',\n",
    "          y ='absences',\n",
    "          xlabel ='Оценка',\n",
    "          ylabel ='Количество пропусков',\n",
    "          alpha = 0.25)\n",
    "plt.xticks(np.arange(0, 21, 1))\n",
    "plt.show()"
   ]
  }
 ],
 "metadata": {
  "colab": {
   "provenance": []
  },
  "kernelspec": {
   "display_name": "Python 3",
   "name": "python3"
  },
  "language_info": {
   "codemirror_mode": {
    "name": "ipython",
    "version": 3
   },
   "file_extension": ".py",
   "mimetype": "text/x-python",
   "name": "python",
   "nbconvert_exporter": "python",
   "pygments_lexer": "ipython3",
   "version": "3.12.6"
  }
 },
 "nbformat": 4,
 "nbformat_minor": 0
}
