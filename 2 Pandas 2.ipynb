{
  "cells": [
    {
      "cell_type": "markdown",
      "metadata": {
        "id": "7UdbG06MOuBE"
      },
      "source": [
        "## <a name=\"section3\"></a> **Задания по Pandas и Sleep statistics**\n",
        "## Задание 1 ★☆☆\n",
        "Для выполнения следующих заданий загрузите [тренировочный датасет](https://www.kaggle.com/datasets/hanaksoy/health-and-sleep-statistics) с данными о физической активности и качестве сна некоторых людей и изучите его описание. Загрузите датафрейм в переменную data.\n",
        "\n",
        "С помощью группировки посчитайте среднюю оценку сна в разрезе пола ('Gender'). Сохраните в переменную `max_mean_sleep_quality_gender` пол, которому соответствует наибольшая средняя оценка сна, а в переменную `diff_mean_sleep_quality` модуль разницы средних оценок.\n",
        "\n",
        "Подсказка: idxmax"
      ]
    },
    {
      "cell_type": "code",
      "execution_count": 282,
      "metadata": {
        "id": "MH4dpJEeO0A7"
      },
      "outputs": [
        {
          "name": "stdout",
          "output_type": "stream",
          "text": [
            "Female спят лучше на 2.84\n"
          ]
        }
      ],
      "source": [
        "import pandas as pd\n",
        "data = pd.read_csv('Health_Sleep_Statistics.csv')\n",
        "\n",
        "mean_sleep_by_gender = data.groupby('Gender')['Sleep Quality'].mean()\n",
        "max_mean_sleep_quality_gender = mean_sleep_by_gender.idxmax()\n",
        "\n",
        "diff_mean_sleep_quality = abs(mean_sleep_by_gender['m'] - mean_sleep_by_gender['f'])\n",
        "max_mean_sleep_quality_gender = 'Male' if max_mean_sleep_quality_gender == 'm' else 'Female'\n",
        "diff_mean_sleep_quality = diff_mean_sleep_quality\n",
        "\n",
        "print(f'{max_mean_sleep_quality_gender} спят лучше на {diff_mean_sleep_quality}') # Значение для формы"
      ]
    },
    {
      "cell_type": "markdown",
      "metadata": {
        "id": "PHoqd23zO2Ex"
      },
      "source": [
        "## Задание 2 ★☆☆\n",
        "Выведите и изучите типы столбцов. Найдите минимальное и максимальное время отхода ко сну и пробуждения."
      ]
    },
    {
      "cell_type": "code",
      "execution_count": 283,
      "metadata": {
        "id": "lHx8EAtkO4Vh"
      },
      "outputs": [
        {
          "name": "stdout",
          "output_type": "stream",
          "text": [
            "User ID                     int64\n",
            "Age                         int64\n",
            "Gender                     object\n",
            "Sleep Quality               int64\n",
            "Bedtime                    object\n",
            "Wake-up Time               object\n",
            "Daily Steps                 int64\n",
            "Calories Burned             int64\n",
            "Physical Activity Level    object\n",
            "Dietary Habits             object\n",
            "Sleep Disorders            object\n",
            "Medication Usage           object\n",
            "dtype: object \n",
            "\n",
            "22:00 06:00\n",
            "01:30 07:30\n"
          ]
        }
      ],
      "source": [
        "print(data.dtypes, \"\\n\")\n",
        "\n",
        "data['bedtime'] = pd.to_datetime(data['Bedtime'], format='%H:%M').apply(lambda x: x + pd.Timedelta(days=1) if x.hour < 12 else x)\n",
        "data['wake_up_time'] = pd.to_datetime(data['Wake-up Time'], format='%H:%M')\n",
        "\n",
        "min_bedtime, min_wake_up_time = data['bedtime'].min().strftime('%H:%M'), data['wake_up_time'].min().strftime('%H:%M')\n",
        "print(' '.join([min_bedtime, min_wake_up_time])) # Ответ\n",
        "\n",
        "max_bedtime, max_wake_up_time = data['bedtime'].max().strftime('%H:%M'), data['wake_up_time'].max().strftime('%H:%M')\n",
        "print(' '.join([max_bedtime, max_wake_up_time])) # Ответ"
      ]
    },
    {
      "cell_type": "markdown",
      "metadata": {
        "id": "sm5pW_j8O6gJ"
      },
      "source": [
        "## Задание 3 ★★☆\n",
        "Приведите столбцы `Bedtime` и `Wake-up Time` к типу даты (datetime) и сохраните только часы из даты в новых столбцах `bedtime_hour` и `wake_up_time_hour`. Аналогично предыдущему заданию найдите минимальное и максимальное время отхода ко сну и пробуждения.\n",
        "\n",
        "Подсказка: to_datetime, dt.hour"
      ]
    },
    {
      "cell_type": "code",
      "execution_count": 284,
      "metadata": {
        "id": "NybxQhk1O8if"
      },
      "outputs": [
        {
          "name": "stdout",
          "output_type": "stream",
          "text": [
            "22 6\n",
            "1 7\n"
          ]
        }
      ],
      "source": [
        "data['bedtime_hour'] = pd.to_datetime(data['Bedtime'], format='%H:%M').dt.hour.apply(lambda x: x + 24 if x < 12 else x)\n",
        "data['wake_up_time_hour'] = pd.to_datetime(data['Wake-up Time'], format='%H:%M').dt.hour\n",
        "\n",
        "min_bedtime, min_wake_up_time = data['bedtime_hour'].min() - 24 if data['bedtime_hour'].min() >= 24 else data['bedtime_hour'].min(), data['wake_up_time_hour'].min()\n",
        "print(' '.join(map(str, [min_bedtime, min_wake_up_time]))) # Ответ\n",
        "\n",
        "max_bedtime, max_wake_up_time = data['bedtime_hour'].max() - 24 if data['bedtime_hour'].max() >= 24 else data['bedtime_hour'].max, data['wake_up_time_hour'].max()\n",
        "print(' '.join(map(str, [max_bedtime, max_wake_up_time]))) # Ответ"
      ]
    },
    {
      "cell_type": "markdown",
      "metadata": {
        "id": "-aR9IEf6O-mv"
      },
      "source": [
        "## Задание 4 ★★☆\n",
        "Найдите продолжительность сна в часах, используя столбцы, созданные на предыдущем шаге, и сохраните значения в новый столбец `sleep_duration_hours`. Найдите максимальную продолжительность сна."
      ]
    },
    {
      "cell_type": "code",
      "execution_count": 285,
      "metadata": {
        "id": "0U5FjA3wPB36"
      },
      "outputs": [
        {
          "name": "stdout",
          "output_type": "stream",
          "text": [
            "Максимальная продолжительность сна - 9.0\n"
          ]
        }
      ],
      "source": [
        "data['sleep_duration_hours'] = ((data['wake_up_time'] - data['bedtime']).dt.total_seconds() / 3600).apply(lambda x: x + 24 if x < 0 else x)\n",
        "max_sleep_duration = data['sleep_duration_hours'].max()\n",
        "\n",
        "print(f'Максимальная продолжительность сна - {max_sleep_duration}') # Ответ"
      ]
    },
    {
      "cell_type": "markdown",
      "metadata": {
        "id": "7EtMGBIHPD16"
      },
      "source": [
        "## Задание 5 ★☆☆\n",
        "Посчитайте, какая доля мужчин и женщин ложится спать до полуночи."
      ]
    },
    {
      "cell_type": "code",
      "execution_count": 286,
      "metadata": {
        "id": "P5e4Ga8jPF0f"
      },
      "outputs": [
        {
          "name": "stdout",
          "output_type": "stream",
          "text": [
            "0.98, 0.02\n"
          ]
        }
      ],
      "source": [
        "data = pd.read_csv('Health_Sleep_Statistics.csv')\n",
        "\n",
        "data['bedtime_before_midnight'] = pd.to_datetime(data['Bedtime'], format = '%H:%M').dt.hour.apply(lambda x: x + 24 if x < 12 else x) < 24\n",
        "\n",
        "total_females = data[data['Gender'] == 'f'].shape[0]\n",
        "total_males = data[data['Gender'] == 'm'].shape[0]\n",
        "\n",
        "female_bedtime_before_midnight = data[(data['Gender'] == 'f') & (data['bedtime_before_midnight'])].shape[0] / total_females if total_females > 0 else 0\n",
        "male_bedtime_before_midnight = data[(data['Gender'] == 'm') & (data['bedtime_before_midnight'])].shape[0] / total_males if total_males > 0 else 0\n",
        "\n",
        "print(\"{:.2f}, {:.2f}\".format(female_bedtime_before_midnight, male_bedtime_before_midnight)) # Ответ"
      ]
    },
    {
      "cell_type": "markdown",
      "metadata": {
        "id": "8sn115tbPJ8q"
      },
      "source": [
        "## Задание 6 ★☆☆\n",
        "Найдите, какой уровень физической активности (`Physical Activity Level`) преобладает у людей, которые ложатся после полуночи."
      ]
    },
    {
      "cell_type": "code",
      "execution_count": null,
      "metadata": {
        "id": "xOWH02QEPNlc"
      },
      "outputs": [
        {
          "name": "stdout",
          "output_type": "stream",
          "text": [
            "Наиболее популярный уровень физической активности у поздно ложащихся людей - medium\n"
          ]
        }
      ],
      "source": [
        "late_nighters = data[data['Bedtime'] > '00:00']\n",
        "frequently_activity_level = late_nighters['Physical Activity Level'].mode()[0]\n",
        "\n",
        "print(f'Наиболее популярный уровень физической активности у поздно ложащихся людей - {frequently_activity_level}') # Ответ"
      ]
    }
  ],
  "metadata": {
    "colab": {
      "provenance": []
    },
    "kernelspec": {
      "display_name": "Python 3",
      "name": "python3"
    },
    "language_info": {
      "codemirror_mode": {
        "name": "ipython",
        "version": 3
      },
      "file_extension": ".py",
      "mimetype": "text/x-python",
      "name": "python",
      "nbconvert_exporter": "python",
      "pygments_lexer": "ipython3",
      "version": "3.12.6"
    }
  },
  "nbformat": 4,
  "nbformat_minor": 0
}
